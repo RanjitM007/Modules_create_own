{
 "cells": [
  {
   "cell_type": "code",
   "execution_count": 1,
   "id": "d227c4a9",
   "metadata": {},
   "outputs": [],
   "source": [
    "import pandas as pd\n",
    "df=pd.DataFrame([[123,125],[11,20],[20,8]],columns=['a','b'])"
   ]
  },
  {
   "cell_type": "code",
   "execution_count": 2,
   "id": "412cab72",
   "metadata": {},
   "outputs": [
    {
     "name": "stdout",
     "output_type": "stream",
     "text": [
      "Wall time: 0 ns\n"
     ]
    },
    {
     "data": {
      "text/html": [
       "<div>\n",
       "<style scoped>\n",
       "    .dataframe tbody tr th:only-of-type {\n",
       "        vertical-align: middle;\n",
       "    }\n",
       "\n",
       "    .dataframe tbody tr th {\n",
       "        vertical-align: top;\n",
       "    }\n",
       "\n",
       "    .dataframe thead th {\n",
       "        text-align: right;\n",
       "    }\n",
       "</style>\n",
       "<table border=\"1\" class=\"dataframe\">\n",
       "  <thead>\n",
       "    <tr style=\"text-align: right;\">\n",
       "      <th></th>\n",
       "      <th>a</th>\n",
       "      <th>b</th>\n",
       "    </tr>\n",
       "  </thead>\n",
       "  <tbody>\n",
       "    <tr>\n",
       "      <th>0</th>\n",
       "      <td>123</td>\n",
       "      <td>125</td>\n",
       "    </tr>\n",
       "    <tr>\n",
       "      <th>1</th>\n",
       "      <td>11</td>\n",
       "      <td>20</td>\n",
       "    </tr>\n",
       "    <tr>\n",
       "      <th>2</th>\n",
       "      <td>20</td>\n",
       "      <td>8</td>\n",
       "    </tr>\n",
       "  </tbody>\n",
       "</table>\n",
       "</div>"
      ],
      "text/plain": [
       "     a    b\n",
       "0  123  125\n",
       "1   11   20\n",
       "2   20    8"
      ]
     },
     "execution_count": 2,
     "metadata": {},
     "output_type": "execute_result"
    }
   ],
   "source": [
    "%time\n",
    "df"
   ]
  },
  {
   "cell_type": "code",
   "execution_count": 3,
   "id": "27f60e30",
   "metadata": {},
   "outputs": [],
   "source": [
    "from sklearn.preprocessing import StandardScaler"
   ]
  },
  {
   "cell_type": "code",
   "execution_count": 4,
   "id": "fd03809b",
   "metadata": {},
   "outputs": [],
   "source": [
    "df1=df.copy()\n",
    "df2=df.copy()"
   ]
  },
  {
   "cell_type": "code",
   "execution_count": 5,
   "id": "991705ce",
   "metadata": {},
   "outputs": [
    {
     "data": {
      "text/plain": [
       "array([[ 1.41051097,  1.40805585],\n",
       "       [-0.79382245, -0.58986124],\n",
       "       [-0.61668852, -0.81819462]])"
      ]
     },
     "execution_count": 5,
     "metadata": {},
     "output_type": "execute_result"
    }
   ],
   "source": [
    "sc=StandardScaler()\n",
    "dl=sc.fit_transform(df)\n",
    "dl"
   ]
  },
  {
   "cell_type": "code",
   "execution_count": 6,
   "id": "9ee76769",
   "metadata": {},
   "outputs": [],
   "source": [
    "def standard_scaler(df):\n",
    "    for i in df.columns:\n",
    "        clm=df[i]\n",
    "        \n",
    "        #finding Mean\n",
    "        mean = clm.mean()\n",
    "        \n",
    "        #finding the STD\n",
    "        x=df[i].values\n",
    "        #count the elements\n",
    "        elemnt=len(x)\n",
    "        \n",
    "        Total=sum(x)\n",
    "        \n",
    "        mean=Total/elemnt\n",
    "       \n",
    "        #Find each score’s deviation from the mean\n",
    "        deviation=[]\n",
    "        for e in x:\n",
    "            val=((e - mean)**2)\n",
    "            \n",
    "            deviation.append(val)\n",
    "        sum_deviation=sum(deviation)\n",
    "        \n",
    "        #Find the variance\n",
    "       # Divide the sum of the squares by n – 1 (for a sample) or N (for a population) – this is the variance.\n",
    "        variance=(sum_deviation/elemnt)\n",
    "        \n",
    "        #FINDING THE STANDARD DEVIATION\n",
    "        STD=variance**(1/2)\n",
    "        \n",
    "        \n",
    "        k=df[i].values\n",
    "        new=[]\n",
    "        #z = (x - u) / s\n",
    "        for v in k:\n",
    "            \n",
    "            vk=(v-mean)/STD\n",
    "            \n",
    "            new.append(vk)\n",
    "        df[i]=new\n",
    "    arr=df.to_numpy()\n",
    "    return arr\n"
   ]
  },
  {
   "cell_type": "code",
   "execution_count": 7,
   "id": "debf56b4",
   "metadata": {},
   "outputs": [],
   "source": [
    "kl=standard_scaler(df2)\n"
   ]
  },
  {
   "cell_type": "code",
   "execution_count": 8,
   "id": "e10e2b8a",
   "metadata": {},
   "outputs": [
    {
     "data": {
      "text/plain": [
       "array([[ 1.41051097,  1.40805585],\n",
       "       [-0.79382245, -0.58986124],\n",
       "       [-0.61668852, -0.81819462]])"
      ]
     },
     "execution_count": 8,
     "metadata": {},
     "output_type": "execute_result"
    }
   ],
   "source": [
    "kl"
   ]
  },
  {
   "cell_type": "code",
   "execution_count": 9,
   "id": "8ec8a25a",
   "metadata": {},
   "outputs": [
    {
     "data": {
      "text/plain": [
       "numpy.ndarray"
      ]
     },
     "execution_count": 9,
     "metadata": {},
     "output_type": "execute_result"
    }
   ],
   "source": [
    "type(kl)"
   ]
  },
  {
   "cell_type": "code",
   "execution_count": 16,
   "id": "2dffbc3d",
   "metadata": {},
   "outputs": [
    {
     "data": {
      "text/plain": [
       "numpy.ndarray"
      ]
     },
     "execution_count": 16,
     "metadata": {},
     "output_type": "execute_result"
    }
   ],
   "source": [
    "type(dl)"
   ]
  },
  {
   "cell_type": "code",
   "execution_count": null,
   "id": "bffa90a3",
   "metadata": {},
   "outputs": [],
   "source": []
  }
 ],
 "metadata": {
  "kernelspec": {
   "display_name": "Python 3",
   "language": "python",
   "name": "python3"
  },
  "language_info": {
   "codemirror_mode": {
    "name": "ipython",
    "version": 3
   },
   "file_extension": ".py",
   "mimetype": "text/x-python",
   "name": "python",
   "nbconvert_exporter": "python",
   "pygments_lexer": "ipython3",
   "version": "3.6.10"
  }
 },
 "nbformat": 4,
 "nbformat_minor": 5
}
